{
 "cells": [
  {
   "cell_type": "markdown",
   "metadata": {
    "application/vnd.databricks.v1+cell": {
     "cellMetadata": {},
     "inputWidgets": {},
     "nuid": "8fee43a6-7870-446d-85d7-d6c7a545be4c",
     "showTitle": false,
     "title": ""
    }
   },
   "source": [
    "# Credit Risk Adjudication Model Documentation\n",
    "\n",
    "This notebook is a simple example of how organisations could standardize their approach to AI by defining a series of steps that any data science team ought to address prior to a model validation. Although not exhaustive, this shows that most of the questions required by IVU process could be addressed upfront (at model development phase) to reduce the friction between regulatory imposed silos, increase model validation success rate and drammatically reduce time from exploration to productionization of AI use cases. \n",
    "\n",
    "<br>\n",
    "\n",
    "<a href=\"https://www.ey.com/en_ca\" target=\"_blank\">\n",
    "  <img src='https://raw.githubusercontent.com/databricks-industry-solutions/fsi-mrm-generation/main/templates/figs/ey_logo.png' width=150> \n",
    "</a>"
   ]
  },
  {
   "cell_type": "markdown",
   "metadata": {
    "application/vnd.databricks.v1+cell": {
     "cellMetadata": {},
     "inputWidgets": {},
     "nuid": "6f738d34-c2aa-4979-8aee-df55b8e6fcbd",
     "showTitle": false,
     "title": ""
    }
   },
   "source": [
    "## Executive Summary\n",
    "\n",
    "**Note:* Provide a summary that sums up the model purpose, scope of usage, along with the target portfolio. The\n",
    "model risk ranking, the model limits, and the future developments or enhancements (if applicable)\n",
    "should be highlighted as well.*\n",
    "\n",
    "**[Your text goes here]**"
   ]
  },
  {
   "cell_type": "markdown",
   "metadata": {
    "application/vnd.databricks.v1+cell": {
     "cellMetadata": {},
     "inputWidgets": {},
     "nuid": "4da397c7-d45d-4267-aa7b-4b76183e79c2",
     "showTitle": false,
     "title": ""
    }
   },
   "source": [
    "## 1 Introduction"
   ]
  },
  {
   "cell_type": "markdown",
   "metadata": {
    "application/vnd.databricks.v1+cell": {
     "cellMetadata": {},
     "inputWidgets": {},
     "nuid": "6317bd8b-54b8-45f6-95dc-b944ebea23d9",
     "showTitle": false,
     "title": ""
    }
   },
   "source": [
    "### 1.1 Model Background and Initiation\n",
    "\n",
    "*Note: Describe the history behind the model development. If applicable, describe at high level the different significant changes that were previously made and provide the reason for this current development. It clarifies whether it is a new model or significant changes are being brought to an existing model. This section also should describe the model working group composition and how it was established, if applicable.*\n",
    "\n",
    "**[Your text goes here]**"
   ]
  },
  {
   "cell_type": "markdown",
   "metadata": {
    "application/vnd.databricks.v1+cell": {
     "cellMetadata": {},
     "inputWidgets": {},
     "nuid": "777d9189-596d-434d-893a-b7b1d834bfb1",
     "showTitle": false,
     "title": ""
    }
   },
   "source": [
    "### 1.2 Model Purpose\n",
    "\n",
    "*Note: Describe the model purpose and scope of usage. More precisely, clarify what the model is designed for, along with the model users, the model interdependencies, and any limitations to the model use.*\n",
    "\n",
    "**[Your text goes here]**"
   ]
  },
  {
   "cell_type": "markdown",
   "metadata": {
    "application/vnd.databricks.v1+cell": {
     "cellMetadata": {},
     "inputWidgets": {},
     "nuid": "30feb0f0-5f09-4cff-bfb4-a6dd3889569a",
     "showTitle": false,
     "title": ""
    }
   },
   "source": [
    "### 1.3 Model Portfolio\n",
    "\n",
    "*Note: Describe the underlying business product(s) and portfolio of the model. Provide any relevant information about the recent significant changes and trends in the portfolio. Outline key statistics on the portfolio evolution, regarding e.g., the number of borrowers, the amount of exposures, etc.*\n",
    "\n",
    "**[Your text goes here]**"
   ]
  },
  {
   "cell_type": "markdown",
   "metadata": {
    "application/vnd.databricks.v1+cell": {
     "cellMetadata": {},
     "inputWidgets": {},
     "nuid": "151f1dc1-b46e-4cf5-b915-a114805d2131",
     "showTitle": false,
     "title": ""
    }
   },
   "source": [
    "### 1.4 Model Risk Rating\n",
    "\n",
    "*Note: Provide and justify the model risk ranking.*\n",
    "\n",
    "**[Your text goes here]**"
   ]
  },
  {
   "cell_type": "markdown",
   "metadata": {
    "application/vnd.databricks.v1+cell": {
     "cellMetadata": {},
     "inputWidgets": {},
     "nuid": "fcc57309-f049-4b41-9392-5a0441974291",
     "showTitle": false,
     "title": ""
    }
   },
   "source": [
    "### 1.5 Model Log of Changes (if applicable)\n",
    "\n",
    "*Note: Briefly describe all the previous (minor and major) changes that were made to the model,\n",
    "including the date, justification and how they improved the model performance or use.*\n",
    "\n",
    "**[Your text goes here]**"
   ]
  },
  {
   "cell_type": "markdown",
   "metadata": {
    "application/vnd.databricks.v1+cell": {
     "cellMetadata": {},
     "inputWidgets": {},
     "nuid": "bf1cfd31-ddb9-48c6-bd80-63d3c4447779",
     "showTitle": false,
     "title": ""
    }
   },
   "source": [
    "### 1.6 Business-Driven Risk Considerations\n",
    "\n",
    "*Note: Explain the business risks that are explored and assessed during the model development process, and how they are accounted for in the final model (outputs). Describe and justify any mitigation action (plan) that helps reduce the business-driven risk.*\n",
    "\n",
    "**[Your text goes here]**"
   ]
  },
  {
   "cell_type": "markdown",
   "metadata": {
    "application/vnd.databricks.v1+cell": {
     "cellMetadata": {},
     "inputWidgets": {},
     "nuid": "55cf5e2b-f640-4134-bb3c-d0270d6d8087",
     "showTitle": false,
     "title": ""
    }
   },
   "source": [
    "### 1.7 Economic and Market Outlook\n",
    "\n",
    "*Note: Explain how the current and forward-looking overall economic conditions may impact the business line and subsequently the model outcome.*\n",
    "\n",
    "**[Your text goes here]**"
   ]
  },
  {
   "cell_type": "markdown",
   "metadata": {
    "application/vnd.databricks.v1+cell": {
     "cellMetadata": {},
     "inputWidgets": {},
     "nuid": "6e453bd2-1637-4bf6-87ee-1c208776627b",
     "showTitle": false,
     "title": ""
    }
   },
   "source": [
    "### 1.8 Model Development Process\n",
    "\n",
    "*Note: Describe the overall model development process, the different milestones of the process, along with the roles and responsibilities of the stakeholders involved at each of these key steps.*\n",
    "\n",
    "**[Your text goes here]**"
   ]
  },
  {
   "cell_type": "markdown",
   "metadata": {
    "application/vnd.databricks.v1+cell": {
     "cellMetadata": {},
     "inputWidgets": {},
     "nuid": "ba9e4ba2-8d96-432b-8af0-aeeac484eeeb",
     "showTitle": false,
     "title": ""
    }
   },
   "source": [
    "### 1.9 Economic and Market Outlook\n",
    "\n",
    "*Note: Explain how the current and forward-looking overall economic conditions may impact the business line and subsequently the model outcome.*\n",
    "\n",
    "**[Your text goes here]**"
   ]
  },
  {
   "cell_type": "markdown",
   "metadata": {
    "application/vnd.databricks.v1+cell": {
     "cellMetadata": {},
     "inputWidgets": {},
     "nuid": "0af88ce7-56a6-47e5-b6aa-18d465a70c8a",
     "showTitle": false,
     "title": ""
    }
   },
   "source": [
    "## 2 Data"
   ]
  },
  {
   "cell_type": "markdown",
   "metadata": {
    "application/vnd.databricks.v1+cell": {
     "cellMetadata": {},
     "inputWidgets": {},
     "nuid": "3e564147-3a0a-4e86-a045-bcc498e5b5c3",
     "showTitle": false,
     "title": ""
    }
   },
   "source": [
    "### 2.1 Borrower Definition\n",
    "\n",
    "*Note: Describe the borrowers’ categories of the model portfolio/population. For instance, whether the model applies to borrowers with a certain range of exposure, within a geographical area, or with a minimum/maximum of total asset (e.g., when the model also applies to SMEs). It outlines the borrower identification process in the data bases as well.*\n",
    "\n",
    "**[Your text goes here]**"
   ]
  },
  {
   "cell_type": "markdown",
   "metadata": {
    "application/vnd.databricks.v1+cell": {
     "cellMetadata": {},
     "inputWidgets": {},
     "nuid": "b05b807a-c0bb-473b-9553-abdc0567e0d4",
     "showTitle": false,
     "title": ""
    }
   },
   "source": [
    "### 2.2 Data Sources"
   ]
  },
  {
   "cell_type": "markdown",
   "metadata": {
    "application/vnd.databricks.v1+cell": {
     "cellMetadata": {},
     "inputWidgets": {},
     "nuid": "f87205a7-4af5-4adf-9108-e5e4daddd923",
     "showTitle": false,
     "title": ""
    }
   },
   "source": [
    "#### 2.2.1 Internal Data Sources\n",
    "*Note: Describe the internal data sources, as well as their appropriateness with the model purpose and model population.*\n",
    "\n",
    "**[Your text goes here]**"
   ]
  },
  {
   "cell_type": "markdown",
   "metadata": {
    "application/vnd.databricks.v1+cell": {
     "cellMetadata": {},
     "inputWidgets": {},
     "nuid": "1fab5407-1cd4-4d98-9c7a-e77ae8f5aa24",
     "showTitle": false,
     "title": ""
    }
   },
   "source": [
    "#### 2.2.2 External Data Sources\n",
    "*Note: Describe the external data sources, as well as their appropriateness with the internal definitions and practices, model purpose and model population.*\n",
    "\n",
    "**[Your text goes here]**"
   ]
  },
  {
   "cell_type": "markdown",
   "metadata": {
    "application/vnd.databricks.v1+cell": {
     "cellMetadata": {},
     "inputWidgets": {},
     "nuid": "df4a51f5-1943-422b-9d62-66a5c385f325",
     "showTitle": false,
     "title": ""
    }
   },
   "source": [
    "### 2.3 Data Historical Coverage and Suitability\n",
    "*Note: Describe the data extraction process, along with the period spanned by the data and the statistics on the extracted observations. The section should not only evidence that the extracted data reflects the business practices and experiences, but is also suitable for the model purpose, modeling methodology and modeling assumptions.*\n",
    "\n",
    "**[Your text goes here]**"
   ]
  },
  {
   "cell_type": "markdown",
   "metadata": {
    "application/vnd.databricks.v1+cell": {
     "cellMetadata": {},
     "inputWidgets": {},
     "nuid": "85326603-3121-477b-bdf7-0b37bed537f8",
     "showTitle": false,
     "title": ""
    }
   },
   "source": [
    "### 2.4 Modeling Timeframes"
   ]
  },
  {
   "cell_type": "markdown",
   "metadata": {
    "application/vnd.databricks.v1+cell": {
     "cellMetadata": {},
     "inputWidgets": {},
     "nuid": "b9116f45-0af8-4bb4-9823-113728cad443",
     "showTitle": false,
     "title": ""
    }
   },
   "source": [
    "#### 2.4.1 Timeframe Concepts\n",
    "*Note: Explain the different concepts of the modeling timeframes used for the model development, specifically the observation period, the lag period, along with the performance period.*\n",
    "\n",
    "**[Your text goes here]**"
   ]
  },
  {
   "cell_type": "markdown",
   "metadata": {
    "application/vnd.databricks.v1+cell": {
     "cellMetadata": {},
     "inputWidgets": {},
     "nuid": "b22f436e-a178-43eb-a94b-799b5b71ec6a",
     "showTitle": false,
     "title": ""
    }
   },
   "source": [
    "#### 2.4.2 Determination of the Performance and Lag Periods\n",
    "\n",
    "*Note: Describe the determination process of the lag and performance periods, including the judgemental considerations that were used. Provide a justification of the selections and their consistency with the model product and the observed borrowers’ experience. Explain the different concepts of the modeling timeframes used for the model development, specifically the observation period, the lag period, along with the performance period.*\n",
    "\n",
    "**[Your text goes here]**"
   ]
  },
  {
   "cell_type": "markdown",
   "metadata": {
    "application/vnd.databricks.v1+cell": {
     "cellMetadata": {},
     "inputWidgets": {},
     "nuid": "3a2083d0-4739-47f2-83eb-c3fed62d060e",
     "showTitle": false,
     "title": ""
    }
   },
   "source": [
    "#### 2.4.3 Modeling Timeframes\n",
    "\n",
    "*Note: Describe the different modeling timeframes that were finally selected (i.e., the corresponding periods to the concepts explained in Section 2.4.1) for the model development and validation.*\n",
    "\n",
    "**[Your text goes here]**"
   ]
  },
  {
   "cell_type": "markdown",
   "metadata": {
    "application/vnd.databricks.v1+cell": {
     "cellMetadata": {},
     "inputWidgets": {},
     "nuid": "c0cbc3fc-ef64-42f1-905b-bc379b625fa3",
     "showTitle": false,
     "title": ""
    }
   },
   "source": [
    "### 2.5 Target Variable Definition\n",
    "\n",
    "*Note: Define the target variable (i.e., bad/default) and the other possible outcomes such as good and intermediate status.*\n",
    "\n",
    "**[Your text goes here]**"
   ]
  },
  {
   "cell_type": "code",
   "execution_count": 0,
   "metadata": {
    "application/vnd.databricks.v1+cell": {
     "cellMetadata": {},
     "inputWidgets": {},
     "nuid": "18595b6d-8410-4b4c-9b9d-8decc7579291",
     "showTitle": false,
     "title": ""
    }
   },
   "outputs": [],
   "source": [
    "# [Code goes here to show target variable distribution. The doc generation tool will be configured to pick the result of this cell]"
   ]
  },
  {
   "cell_type": "markdown",
   "metadata": {
    "application/vnd.databricks.v1+cell": {
     "cellMetadata": {},
     "inputWidgets": {},
     "nuid": "f9b3201a-4e7e-4e0c-9819-37e606d87a19",
     "showTitle": false,
     "title": ""
    }
   },
   "source": [
    "### 2.6 Modeling Populations"
   ]
  },
  {
   "cell_type": "markdown",
   "metadata": {
    "application/vnd.databricks.v1+cell": {
     "cellMetadata": {},
     "inputWidgets": {},
     "nuid": "d036d8f9-11fe-46ec-a710-ba87cf391770",
     "showTitle": false,
     "title": ""
    }
   },
   "source": [
    "#### 2.6.1 Eligible Population\n",
    "\n",
    "*Note: Describe and provide statistics on all the extracted population that is qualified for the model development, without any treatment yet (e.g., without exclusions).*\n",
    "\n",
    "**[Your text goes here]**"
   ]
  },
  {
   "cell_type": "code",
   "execution_count": 0,
   "metadata": {
    "application/vnd.databricks.v1+cell": {
     "cellMetadata": {},
     "inputWidgets": {},
     "nuid": "103ae2b0-2e40-4bc6-8a7f-512551906b8e",
     "showTitle": false,
     "title": ""
    }
   },
   "outputs": [],
   "source": [
    "# [Code goes here to show statistics about the population. The doc generation tool will be configured to pick the result of this cell]"
   ]
  },
  {
   "cell_type": "markdown",
   "metadata": {
    "application/vnd.databricks.v1+cell": {
     "cellMetadata": {},
     "inputWidgets": {},
     "nuid": "63d42e64-ec38-45c5-b33c-60964517af86",
     "showTitle": false,
     "title": ""
    }
   },
   "source": [
    "#### 2.6.2 Good-Bad Observations\n",
    "\n",
    "*Note: Describe and provide statistics on observations that can classified as good or bad observations.*\n",
    "\n",
    "**[Your text goes here]**"
   ]
  },
  {
   "cell_type": "code",
   "execution_count": 0,
   "metadata": {
    "application/vnd.databricks.v1+cell": {
     "cellMetadata": {},
     "inputWidgets": {},
     "nuid": "ffd43fbe-9239-4e0a-809a-ba95b86fadaa",
     "showTitle": false,
     "title": ""
    }
   },
   "outputs": [],
   "source": [
    "# [Code goes here to show statistics about the good/bad observations. The doc generation tool will be configured to pick the result of this cell]"
   ]
  },
  {
   "cell_type": "markdown",
   "metadata": {
    "application/vnd.databricks.v1+cell": {
     "cellMetadata": {},
     "inputWidgets": {},
     "nuid": "02a478bf-c7b2-4787-9b51-b5a21a3553d5",
     "showTitle": false,
     "title": ""
    }
   },
   "source": [
    "#### 2.6.3 Indeterminate Observations\n",
    "\n",
    "*Note: Describe and provide statistics on observations that cannot be classified as good or bad observations.*\n",
    "\n",
    "**[Your text goes here]**"
   ]
  },
  {
   "cell_type": "code",
   "execution_count": 0,
   "metadata": {
    "application/vnd.databricks.v1+cell": {
     "cellMetadata": {},
     "inputWidgets": {},
     "nuid": "6f0732b8-dd5f-495d-a196-76d4176de289",
     "showTitle": false,
     "title": ""
    }
   },
   "outputs": [],
   "source": [
    "# [Code goes here to show statistics about the indeterminate observations. The doc generation tool will be configured to pick the result of this cell]"
   ]
  },
  {
   "cell_type": "markdown",
   "metadata": {
    "application/vnd.databricks.v1+cell": {
     "cellMetadata": {},
     "inputWidgets": {},
     "nuid": "49ac250b-10fa-4606-8a7c-0ba9e2aa7a67",
     "showTitle": false,
     "title": ""
    }
   },
   "source": [
    "#### 2.6.4 Statistically Inferred Performance Data\n",
    "\n",
    "*Note: Describe the observations whose performance could not be observed (e.g.,indeterminate observations), the reject inference technique used to infer the performance. The reason supporting the selected technique, along with the considered population should be described as well.*\n",
    "\n",
    "**[Your text goes here]**"
   ]
  },
  {
   "cell_type": "code",
   "execution_count": 0,
   "metadata": {
    "application/vnd.databricks.v1+cell": {
     "cellMetadata": {},
     "inputWidgets": {},
     "nuid": "6fc91726-d33f-4508-8c67-cb4516a40fd3",
     "showTitle": false,
     "title": ""
    }
   },
   "outputs": [],
   "source": [
    "# [Code goes here to show statistics. The doc generation tool will be configured to pick the result of this cell]"
   ]
  },
  {
   "cell_type": "markdown",
   "metadata": {
    "application/vnd.databricks.v1+cell": {
     "cellMetadata": {},
     "inputWidgets": {},
     "nuid": "fd86c51e-b925-4667-bdc8-91e6862fd2e2",
     "showTitle": false,
     "title": ""
    }
   },
   "source": [
    "### 2.7 Data Exclusions and Treatment\n",
    "\n",
    "*Note: Describe exclusions and any treatments (e.g., outlier and missing value treatment, and application of floors and caps) applied to the data, along with the supporting justification.*\n",
    "\n",
    "**[Your text goes here]**"
   ]
  },
  {
   "cell_type": "markdown",
   "metadata": {
    "application/vnd.databricks.v1+cell": {
     "cellMetadata": {},
     "inputWidgets": {},
     "nuid": "c35a2da5-4b81-43d4-9253-cdfefad11927",
     "showTitle": false,
     "title": ""
    }
   },
   "source": [
    "### 2.8 Sampling Methodology\n",
    "*Note: Describe the data sampling methodology, along with the supporting justification. Provide evidence that the in-sample and out-of-sample populations have enough data points to allow for reliable\n",
    "statistical test results.*\n",
    "\n",
    "**[Your text goes here]**"
   ]
  },
  {
   "cell_type": "markdown",
   "metadata": {
    "application/vnd.databricks.v1+cell": {
     "cellMetadata": {},
     "inputWidgets": {},
     "nuid": "1353e974-8bb3-4fa7-b6f6-6b1e987212bc",
     "showTitle": false,
     "title": ""
    }
   },
   "source": [
    "### 2.9 Modeling Data Assessment\n",
    "*Note: Describe the final dataset that will be used for the model development. Describe the data quality, using statistics and graphs, describe any data limitations and their potential impact on the model\n",
    "output.*\n",
    "\n",
    "**[Your text goes here]**"
   ]
  },
  {
   "cell_type": "markdown",
   "metadata": {
    "application/vnd.databricks.v1+cell": {
     "cellMetadata": {},
     "inputWidgets": {},
     "nuid": "43430101-d073-4754-8a7e-4bb5993ffa0d",
     "showTitle": false,
     "title": ""
    }
   },
   "source": [
    "## 3 Model Development"
   ]
  },
  {
   "cell_type": "markdown",
   "metadata": {
    "application/vnd.databricks.v1+cell": {
     "cellMetadata": {},
     "inputWidgets": {},
     "nuid": "575893a1-27a5-4d50-a6fa-49673e660377",
     "showTitle": false,
     "title": ""
    }
   },
   "source": [
    "### 3.1 Methodology Selection\n",
    "*Note: Describe the modeling methodology selection process. More specifically, first present and compare the different alternatives through the literature and industry practice review, and then explain\n",
    "the rationale behind the selected approach. In addition, outline the mathematical definitions and equations, along with the assumptions and limitations of the selected modeling methodology.*\n",
    "\n",
    "**[Your text goes here]**"
   ]
  },
  {
   "cell_type": "markdown",
   "metadata": {
    "application/vnd.databricks.v1+cell": {
     "cellMetadata": {},
     "inputWidgets": {},
     "nuid": "e9bde658-080a-4422-999c-7595fe6ff006",
     "showTitle": false,
     "title": ""
    }
   },
   "source": [
    "### 3.2 Model Segmentation\n",
    "\n",
    "*Note: Describe the model segmentation process, including the judgemental considerations, the statistical analyses, and the supporting rationale for the selected segments.*\n",
    "\n",
    "**[Your text goes here]**"
   ]
  },
  {
   "cell_type": "markdown",
   "metadata": {
    "application/vnd.databricks.v1+cell": {
     "cellMetadata": {},
     "inputWidgets": {},
     "nuid": "ad8c84a5-f56c-41d9-9109-ce0fb3cc45f9",
     "showTitle": false,
     "title": ""
    }
   },
   "source": [
    "### 3.3 Model Variable Selection\n",
    "\n",
    "*Note: Describe the variable selection process from the initial list until the selected variables. The statistical analyses with their results and the business considerations should be described in the corresponding sub-sections below. Only relevant and applicable sub-sections should documented. Additional analyses or tests may be added.*\n",
    "\n",
    "**[Your text goes here]**"
   ]
  },
  {
   "cell_type": "markdown",
   "metadata": {
    "application/vnd.databricks.v1+cell": {
     "cellMetadata": {},
     "inputWidgets": {},
     "nuid": "c7f766c7-fc14-49b3-bb66-0d6592ad76ec",
     "showTitle": false,
     "title": ""
    }
   },
   "source": [
    "#### 3.3.1 Variable Reduction\n",
    "\n",
    "*Note: Describe the first step of the variable selection process, which primarily consists in narrowing down the initial list of variables. Describe each of the listed topics below that are applicable in your approach and add others that were used*\n",
    "<br/><br/>\n",
    "\n",
    "* *Business Considerations*\n",
    "* *WOE Analysis*\n",
    "* *Binning Process*\n",
    "* *Information Value Analysis*\n",
    "* *Variable Clustering*\n",
    "* *Additional Considerations (if applicable)*\n",
    "\n",
    "**[Your text goes here]**"
   ]
  },
  {
   "cell_type": "code",
   "execution_count": 0,
   "metadata": {
    "application/vnd.databricks.v1+cell": {
     "cellMetadata": {},
     "inputWidgets": {},
     "nuid": "fb08728b-7f15-48be-8dc3-346d6ea1a550",
     "showTitle": false,
     "title": ""
    }
   },
   "outputs": [],
   "source": [
    "# [Code goes here to display data and plots to support the variable selection methods and results. The doc generation tool will be configured to pick the result of this cell]"
   ]
  },
  {
   "cell_type": "markdown",
   "metadata": {
    "application/vnd.databricks.v1+cell": {
     "cellMetadata": {},
     "inputWidgets": {},
     "nuid": "10951a5f-5ab2-4750-829f-038894bfd5fa",
     "showTitle": false,
     "title": ""
    }
   },
   "source": [
    "#### 3.3.2 Final Variable Reduction\n",
    "\n",
    "*Note: Describe the additional step(s) to select and refine the model variables after the initial list is reduced.*\n",
    "<br/><br/>\n",
    "\n",
    "* *Univariate Analysis*\n",
    "* *Multivariate and Multicollinearity Analysis*\n",
    "* *Additional Considerations (if applicable)*\n",
    "\n",
    "**[Your text goes here]**"
   ]
  },
  {
   "cell_type": "code",
   "execution_count": 0,
   "metadata": {
    "application/vnd.databricks.v1+cell": {
     "cellMetadata": {},
     "inputWidgets": {},
     "nuid": "b3c42c75-eadf-4615-b85c-66f268ea80a6",
     "showTitle": false,
     "title": ""
    }
   },
   "outputs": [],
   "source": [
    "# [Code goes here to display data and plots to support thefinal  variable selection methods and results. The doc generation tool will be configured to pick the result of this cell]"
   ]
  },
  {
   "cell_type": "markdown",
   "metadata": {
    "application/vnd.databricks.v1+cell": {
     "cellMetadata": {},
     "inputWidgets": {},
     "nuid": "146fd5ee-2b55-4563-b06a-b031b178eff3",
     "showTitle": false,
     "title": ""
    }
   },
   "source": [
    "### 3.4 Model Estimation\n",
    "\n",
    "*Note: Describe the model estimation methodology and its suitability with the model purpose and the modeling data. Outline and interpret the specifications and estimation results.*\n",
    "\n",
    "**[Your text goes here]**"
   ]
  },
  {
   "cell_type": "markdown",
   "metadata": {
    "application/vnd.databricks.v1+cell": {
     "cellMetadata": {},
     "inputWidgets": {},
     "nuid": "0a781485-f3f2-409d-a4b5-dc030d1d31a1",
     "showTitle": false,
     "title": ""
    }
   },
   "source": [
    "### 3.5 Model Scaling\n",
    "\n",
    "*Note: Describe the model scaling process. More specifically, cover the selection of the scaling equations and parameters, as well as the expert judgements that were considered. Display and interpret the model final results.*\n",
    "\n",
    "**[Your text goes here]**"
   ]
  },
  {
   "cell_type": "markdown",
   "metadata": {
    "application/vnd.databricks.v1+cell": {
     "cellMetadata": {},
     "inputWidgets": {},
     "nuid": "d4638883-7828-440e-a7eb-3028b09d44c6",
     "showTitle": false,
     "title": ""
    }
   },
   "source": [
    "## 4 Model Performance Assessment\n",
    "\n",
    "*Note: Thoroughly assess the model performance in this section. Each sub-section is designed to cover particular dimension that is assessed, outline the analysis or statistical test that is performed and\n",
    "provide the results interpretation. Keep only relevant and applicable sub-sections. Add additional analyses or tests.*\n",
    "\n",
    "**[Your text goes here]**"
   ]
  },
  {
   "cell_type": "markdown",
   "metadata": {
    "application/vnd.databricks.v1+cell": {
     "cellMetadata": {},
     "inputWidgets": {},
     "nuid": "a0ae6053-657f-4e5b-b523-c2229615b687",
     "showTitle": false,
     "title": ""
    }
   },
   "source": [
    "### 4.1 Output Analysis\n",
    "**[Your text goes here]**"
   ]
  },
  {
   "cell_type": "markdown",
   "metadata": {
    "application/vnd.databricks.v1+cell": {
     "cellMetadata": {},
     "inputWidgets": {},
     "nuid": "f853529b-c164-4c06-a752-76e518133244",
     "showTitle": false,
     "title": ""
    }
   },
   "source": [
    "### 4.2 Discriminatory Power Testing\n",
    "\n",
    "**[Your text goes here]**"
   ]
  },
  {
   "cell_type": "code",
   "execution_count": 0,
   "metadata": {
    "application/vnd.databricks.v1+cell": {
     "cellMetadata": {},
     "inputWidgets": {},
     "nuid": "abbc95b5-843c-4997-8e69-48c20ca1c493",
     "showTitle": false,
     "title": ""
    }
   },
   "outputs": [],
   "source": [
    "# [Code goes here to display data and plots to support the tests and results. The doc generation tool will be configured to pick the result of this cell]"
   ]
  },
  {
   "cell_type": "markdown",
   "metadata": {
    "application/vnd.databricks.v1+cell": {
     "cellMetadata": {},
     "inputWidgets": {},
     "nuid": "3d9f15c3-4042-47fc-89f8-7846abf5b529",
     "showTitle": false,
     "title": ""
    }
   },
   "source": [
    "#### 4.2.1 Accuracy Ratio Test\n",
    "\n",
    "**[Your text goes here]**"
   ]
  },
  {
   "cell_type": "code",
   "execution_count": 0,
   "metadata": {
    "application/vnd.databricks.v1+cell": {
     "cellMetadata": {},
     "inputWidgets": {},
     "nuid": "86e904de-5baf-4510-901e-09f4b1f3bf97",
     "showTitle": false,
     "title": ""
    }
   },
   "outputs": [],
   "source": [
    "# [Code goes here to display data and plots to support the tests and results. The doc generation tool will be configured to pick the result of this cell]"
   ]
  },
  {
   "cell_type": "markdown",
   "metadata": {
    "application/vnd.databricks.v1+cell": {
     "cellMetadata": {},
     "inputWidgets": {},
     "nuid": "e481d88b-74c9-4137-b4cf-c6b86afc71f0",
     "showTitle": false,
     "title": ""
    }
   },
   "source": [
    "#### 4.2.2 Kolmogorov-Smirnov Test\n",
    "\n",
    "**[Your text goes here]**"
   ]
  },
  {
   "cell_type": "code",
   "execution_count": 0,
   "metadata": {
    "application/vnd.databricks.v1+cell": {
     "cellMetadata": {},
     "inputWidgets": {},
     "nuid": "513993bd-4c21-456c-9ec0-fc9c45100e12",
     "showTitle": false,
     "title": ""
    }
   },
   "outputs": [],
   "source": [
    "# [Code goes here to display data and plots to support the tests and results. The doc generation tool will be configured to pick the result of this cell]"
   ]
  },
  {
   "cell_type": "markdown",
   "metadata": {
    "application/vnd.databricks.v1+cell": {
     "cellMetadata": {},
     "inputWidgets": {},
     "nuid": "6cdd84b5-4356-4702-b2bd-b605a7d3adfe",
     "showTitle": false,
     "title": ""
    }
   },
   "source": [
    "### 4.3 Sensitivity Analysis\n",
    "\n",
    "\n",
    "**[Your text goes here]**"
   ]
  },
  {
   "cell_type": "code",
   "execution_count": 0,
   "metadata": {
    "application/vnd.databricks.v1+cell": {
     "cellMetadata": {},
     "inputWidgets": {},
     "nuid": "5b552028-8237-46b2-b18f-49492f727e4e",
     "showTitle": false,
     "title": ""
    }
   },
   "outputs": [],
   "source": [
    "# [Code goes here to display data and plots to support the tests and results. The doc generation tool will be configured to pick the result of this cell]"
   ]
  },
  {
   "cell_type": "markdown",
   "metadata": {
    "application/vnd.databricks.v1+cell": {
     "cellMetadata": {},
     "inputWidgets": {},
     "nuid": "f0e134b5-5171-4cab-b02f-dd4c07ff78a3",
     "showTitle": false,
     "title": ""
    }
   },
   "source": [
    "### 4.4 Population Stability Analysis\n",
    "\n",
    "**[Your text goes here]**"
   ]
  },
  {
   "cell_type": "code",
   "execution_count": 0,
   "metadata": {
    "application/vnd.databricks.v1+cell": {
     "cellMetadata": {},
     "inputWidgets": {},
     "nuid": "2e3c6c6a-12cd-4d5a-8b8f-1abfdeb3ed98",
     "showTitle": false,
     "title": ""
    }
   },
   "outputs": [],
   "source": [
    "# [Code goes here to display data and plots to support the tests and results. The doc generation tool will be configured to pick the result of this cell]"
   ]
  },
  {
   "cell_type": "markdown",
   "metadata": {
    "application/vnd.databricks.v1+cell": {
     "cellMetadata": {},
     "inputWidgets": {},
     "nuid": "e0d05ebb-e707-4610-898d-47dd0ac33560",
     "showTitle": false,
     "title": ""
    }
   },
   "source": [
    "### 4.5 Benchmarking\n",
    "\n",
    "\n",
    "**[Your text goes here]**"
   ]
  },
  {
   "cell_type": "code",
   "execution_count": 0,
   "metadata": {
    "application/vnd.databricks.v1+cell": {
     "cellMetadata": {},
     "inputWidgets": {},
     "nuid": "63b25977-141f-4fa1-9a3c-19c134bfaa49",
     "showTitle": false,
     "title": ""
    }
   },
   "outputs": [],
   "source": [
    "# [Code goes here to display data and plots to support the tests and results. The doc generation tool will be configured to pick the result of this cell]"
   ]
  },
  {
   "cell_type": "markdown",
   "metadata": {
    "application/vnd.databricks.v1+cell": {
     "cellMetadata": {},
     "inputWidgets": {},
     "nuid": "8e9bbdc4-a5e3-4655-8f8c-79b5eae49c99",
     "showTitle": false,
     "title": ""
    }
   },
   "source": [
    "## 5 Model Assumptions and Limitations"
   ]
  },
  {
   "cell_type": "markdown",
   "metadata": {
    "application/vnd.databricks.v1+cell": {
     "cellMetadata": {},
     "inputWidgets": {},
     "nuid": "5eef33ed-1ea4-42e5-bcd3-01d9658f41a1",
     "showTitle": false,
     "title": ""
    }
   },
   "source": [
    "### 5.1 Model Assumptions\n",
    "*Note: Describe the key assumptions made throughout the model development process and provide evidence to support their reasonableness and soundness.*\n",
    "\n",
    "\n",
    "**[Your text goes here]**"
   ]
  },
  {
   "cell_type": "markdown",
   "metadata": {
    "application/vnd.databricks.v1+cell": {
     "cellMetadata": {},
     "inputWidgets": {},
     "nuid": "1855ef4f-d7ce-40fa-b802-f99e6e627c18",
     "showTitle": false,
     "title": ""
    }
   },
   "source": [
    "### 5.2 Model Limitations\n",
    "*Note: Describe the key model limitations, their potential impact on the model, as well as the corresponding mitigation action plan(s) to reduce the model risk.*\n",
    "\n",
    "**[Your text goes here]**"
   ]
  },
  {
   "cell_type": "markdown",
   "metadata": {
    "application/vnd.databricks.v1+cell": {
     "cellMetadata": {},
     "inputWidgets": {},
     "nuid": "0f9935ec-9c64-42d6-837e-23db6c9eed59",
     "showTitle": false,
     "title": ""
    }
   },
   "source": [
    "## 6 Model Ongoing Monitoring"
   ]
  },
  {
   "cell_type": "markdown",
   "metadata": {
    "application/vnd.databricks.v1+cell": {
     "cellMetadata": {},
     "inputWidgets": {},
     "nuid": "988e0ac0-a1ea-41cb-a415-296407f43a46",
     "showTitle": false,
     "title": ""
    }
   },
   "source": [
    "### 6.1 Ongoing Performance Assessment\n",
    "*Note: Describe the ongoing model performance monitoring plan. Cover the statistical tests (including e.g., the frequency and acceptance thresholds) that will be performed on an ongoing basis to\n",
    "ensure the model is still performing adequately.*\n",
    "\n",
    "**[Your text goes here]**"
   ]
  },
  {
   "cell_type": "markdown",
   "metadata": {
    "application/vnd.databricks.v1+cell": {
     "cellMetadata": {},
     "inputWidgets": {},
     "nuid": "343a05b1-949f-4473-890c-bb8c80d9ed99",
     "showTitle": false,
     "title": ""
    }
   },
   "source": [
    "### 6.2 Documentation Review\n",
    "*Note: Describe the conditions or types of model changes that trigger the model documentation review, as well as the key components that need to be reviewed.*\n",
    "\n",
    "**[Your text goes here]**"
   ]
  },
  {
   "cell_type": "markdown",
   "metadata": {
    "application/vnd.databricks.v1+cell": {
     "cellMetadata": {},
     "inputWidgets": {},
     "nuid": "26ed5f58-2414-4cdd-9ce9-8cd3beadae0f",
     "showTitle": false,
     "title": ""
    }
   },
   "source": [
    "## 7 References\n",
    "\n",
    "**[Your text goes here]**"
   ]
  },
  {
   "cell_type": "markdown",
   "metadata": {
    "application/vnd.databricks.v1+cell": {
     "cellMetadata": {},
     "inputWidgets": {},
     "nuid": "8d4572b6-931b-4867-a111-dd20f25455df",
     "showTitle": false,
     "title": ""
    }
   },
   "source": [
    "<div style=\"text-align: center; margin-top: 30px;\">\n",
    "    <img src='https://raw.githubusercontent.com/databricks-industry-solutions/fsi-mrm-generation/main/templates/figs/ey_logo.png' height=\"50px\">\n",
    "    <br>\n",
    "    <br>\n",
    "    <em>Disclaimer: The views and opinions expressed in this blog are those of the authors and do not necessarily reflect the policy or position of EY.</em>\n",
    "</div>"
   ]
  },
  {
   "cell_type": "markdown",
   "metadata": {
    "application/vnd.databricks.v1+cell": {
     "cellMetadata": {},
     "inputWidgets": {},
     "nuid": "71c7d181-2240-4960-b828-1b5a3497caa1",
     "showTitle": false,
     "title": ""
    }
   },
   "source": []
  }
 ],
 "metadata": {
  "application/vnd.databricks.v1+notebook": {
   "dashboards": [],
   "language": "python",
   "notebookMetadata": {
    "mostRecentlyExecutedCommandWithImplicitDF": {
     "commandId": -1,
     "dataframes": [
      "_sqldf"
     ]
    },
    "pythonIndentUnit": 2
   },
   "notebookName": "Credit Adjudication - Markdown",
   "widgets": {}
  },
  "language_info": {
   "name": "python"
  }
 },
 "nbformat": 4,
 "nbformat_minor": 0
}
